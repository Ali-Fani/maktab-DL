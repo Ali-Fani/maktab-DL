{
 "metadata": {
  "language_info": {
   "codemirror_mode": {
    "name": "ipython",
    "version": 3
   },
   "file_extension": ".py",
   "mimetype": "text/x-python",
   "name": "python",
   "nbconvert_exporter": "python",
   "pygments_lexer": "ipython3",
   "version": "3.8.5-final"
  },
  "orig_nbformat": 2,
  "kernelspec": {
   "name": "python3",
   "display_name": "Python 3"
  }
 },
 "nbformat": 4,
 "nbformat_minor": 2,
 "cells": [
  {
   "cell_type": "code",
   "execution_count": 19,
   "metadata": {},
   "outputs": [],
   "source": [
    "from selenium import webdriver\n",
    "from selenium.webdriver.common.keys import Keys\n",
    "from selenium.webdriver.common.by import By\n",
    "from selenium.webdriver.support.ui import WebDriverWait\n",
    "from selenium.webdriver.support import expected_conditions as EC\n",
    "from selenium.webdriver.chrome.options import Options\n",
    "base_url=\"https://maktabkhooneh.org/course/\"\n",
    "course_url=\"داده-ساختارها-و-مبانی-الگوریتم-ها-mk376\"\n",
    "driver = webdriver.Chrome()\n",
    "username=\"your username\"\n",
    "password=\"your password\""
   ]
  },
  {
   "cell_type": "code",
   "execution_count": 20,
   "metadata": {},
   "outputs": [
    {
     "output_type": "execute_result",
     "data": {
      "text/plain": [
       "<selenium.webdriver.remote.webelement.WebElement (session=\"410b94f8d638016cdc0e7d533c4e9dbf\", element=\"f35b25ef-420c-4247-968e-df96374ec6da\")>"
      ]
     },
     "metadata": {},
     "execution_count": 20
    }
   ],
   "source": [
    "\n",
    "driver.get(\"https://maktabkhooneh.org/\")\n",
    "login=driver.find_element_by_xpath('//*[@id=\"navbar\"]/div/div[3]/button')\n",
    "login.click()\n",
    "wait = WebDriverWait(driver, 15)\n",
    "driver.implicitly_wait(5)\n",
    "username = wait.until(\n",
    "EC.element_to_be_clickable((By.XPATH, \"/html/body/div[1]/div[4]/div/div[1]/div[2]/div/form/div/input\")))\n",
    "username.send_keys(username)\n",
    "username.send_keys(Keys.RETURN)\n",
    "passwrod = wait.until(EC.element_to_be_clickable((By.XPATH,\"/html/body/div[1]/div[4]/div/div[1]/div[2]/div/div[1]/form/div/input[2]\")))\n",
    "passwrod.send_keys(password)\n",
    "passwrod.send_keys(Keys.RETURN)\n",
    "wait.until(EC.element_to_be_clickable((By.XPATH,'//*[@id=\"navbar\"]/div/div[3]/a')))"
   ]
  },
  {
   "cell_type": "code",
   "execution_count": 23,
   "metadata": {},
   "outputs": [
    {
     "output_type": "stream",
     "name": "stdout",
     "text": [
      "error\n"
     ]
    }
   ],
   "source": [
    "\n",
    "driver.get(base_url+course_url)\n",
    "try:\n",
    "    wait.until(EC.element_to_be_clickable((By.XPATH,\"/html/body/div[4]/div/div[5]/a[1]\"))).click()\n",
    "except:\n",
    "    print(\"error\")\n",
    "finally:\n",
    "    wait.until(EC.element_to_be_clickable((By.XPATH,\"/html/body/div[1]/div[4]/div[2]/div/div[2]/div[3]/a\"))).click()\n",
    "\n"
   ]
  },
  {
   "cell_type": "code",
   "execution_count": 25,
   "metadata": {},
   "outputs": [
    {
     "output_type": "stream",
     "name": "stdout",
     "text": [
      "https://video-resolver.maktabkhooneh.org/videos/hq41150152524341266.mp4?expire=1606608538&token=5d7cbeec3665b3f915880eb4c9a595d8&md5=XXy-7DZls_kViA60yaWV2A==&name=DS_1_1.mp4\n",
      "https://video-resolver.maktabkhooneh.org/videos/hq07363442556499145.mp4?expire=1606608109&token=479903760246b1c2a54536922338ac25&md5=R5kDdgJGscKlRTaSIzisJQ==&name=DS_1_2.mp4\n",
      "https://video-resolver.maktabkhooneh.org/videos/hq17117740159751538.mp4?expire=1606606478&token=15fb9e025df52fe22a67c4117b32c3b0&md5=FfueAl31L-IqZ8QRezLDsA==&name=DS_1_3.mp4\n",
      "https://video-resolver.maktabkhooneh.org/videos/hq26067958287651694.mp4?expire=1606608143&token=c571d666d60d254417d9aaa337ea9f4d&md5=xXHWZtYNJUQX2aqjN-qfTQ==&name=DS_1_4.mp4\n",
      "https://video-resolver.maktabkhooneh.org/videos/hq617182370315656.mp4?expire=1606608846&token=6662aa372ba0b1c829fb282d0eb00c58&md5=ZmKqNyugscgp-ygtDrAMWA==&name=DS_1_5.mp4\n",
      "https://video-resolver.maktabkhooneh.org/videos/hq2420515779496526.mp4?expire=1606608008&token=074482fd6affcd2e4bfb3e85f8bc3780&md5=B0SC_Wr_zS5L-z6F-Lw3gA==&name=DS_1_6.mp4\n",
      "https://video-resolver.maktabkhooneh.org/videos/hq9889946279089236.mp4?expire=1606604573&token=a54caf1e9ee9a77b62ac7d0161ef6b14&md5=pUyvHp7pp3tirH0BYe9rFA==&name=DS_1_7.mp4\n",
      "https://video-resolver.maktabkhooneh.org/videos/hq20633748778515726.mp4?expire=1606608507&token=0c9add83be5c64c32d45b61da8c87aa6&md5=DJrdg75cZMMtRbYdqMh6pg==&name=DS_1_8.mp4\n",
      "https://video-resolver.maktabkhooneh.org/videos/hq9516085822416105.mp4?expire=1606608649&token=b19a299477642bb20e4b991cd35271dd&md5=sZoplHdkK7IOS5kc01Jx3Q==&name=DS_1_9.mp4\n",
      "https://video-resolver.maktabkhooneh.org/videos/hq6238703703721494.mp4?expire=1606608136&token=031e95499862aad80423c649ea624b15&md5=Ax6VSZhiqtgEI8ZJ6mJLFQ==&name=DS_1_10.mp4\n",
      "https://video-resolver.maktabkhooneh.org/videos/hq5773024855221738.mp4?expire=1606607619&token=2d8526f03517f917528eb392a7b9d0db&md5=LYUm8DUX-RdSjrOSp7nQ2w==&name=DS_1_11.mp4\n",
      "https://video-resolver.maktabkhooneh.org/videos/hq9165087800689898.mp4?expire=1606606611&token=e657940e6966c7da547333b420655644&md5=5leUDmlmx9pUczO0IGVWRA==&name=DS_1_12.mp4\n",
      "https://video-resolver.maktabkhooneh.org/videos/hq03316553199104455.mp4?expire=1606606053&token=83eef81af2ae716610d9240d7e2070ee&md5=g-74GvKucWYQ2SQNfiBw7g==&name=DS_1_13.mp4\n",
      "https://video-resolver.maktabkhooneh.org/videos/hq1676571594842452.mp4?expire=1606608185&token=6213691ae394854a35ddf08da4a22ddb&md5=YhNpGuOUhUo13fCNpKIt2w==&name=DS_1_14.mp4\n",
      "https://video-resolver.maktabkhooneh.org/videos/hq07905011692180497.mp4?expire=1606606276&token=4e15ebdb5c08775e96c932ab2909f473&md5=ThXr21wId16WyTKrKQn0cw==&name=DS_1_15.mp4\n",
      "https://video-resolver.maktabkhooneh.org/videos/hq32992257460618335.mp4?expire=1606605741&token=10babda7f923f1ec1286fdceda2e92e4&md5=ELq9p_kj8ewShv3O2i6S5A==&name=DS_1_16.mp4\n",
      "https://video-resolver.maktabkhooneh.org/videos/hq26873590977851236.mp4?expire=1606605907&token=fc87c9498171cb137646db3693e8ddcf&md5=_IfJSYFxyxN2Rts2k-jdzw==&name=DS_1_17.mp4\n",
      "https://video-resolver.maktabkhooneh.org/videos/hq3227074464092542.mp4?expire=1606605208&token=5b788de46dfadc22ea39d2817e5165b4&md5=W3iN5G363CLqOdKBflFltA==&name=DS_1_18.mp4\n",
      "https://video-resolver.maktabkhooneh.org/videos/hq6287526004528862.mp4?expire=1606607772&token=944ac38adc977aaec16cfb9e177047c8&md5=lErDityXeq7BbPueF3BHyA==&name=DS_1_19.mp4\n",
      "https://video-resolver.maktabkhooneh.org/videos/hq5232809699432222.mp4?expire=1606605844&token=bbf70f66eaedccdd6d4b78f69a2ab436&md5=u_cPZurtzN1tS3j2miq0Ng==&name=DS_1_20.mp4\n",
      "https://video-resolver.maktabkhooneh.org/videos/hq40870194610527055.mp4?expire=1606607600&token=4c069a6318e6e97481af9c481dc3ed69&md5=TAaaYxjm6XSBr5xIHcPtaQ==&name=DS_1_21.mp4\n",
      "https://video-resolver.maktabkhooneh.org/videos/hq3649569737030436.mp4?expire=1606607774&token=f0824655803e27f3275ebd0da248c24f&md5=8IJGVYA-J_MnXr0NokjCTw==&name=DS_1_22.mp4\n",
      "https://video-resolver.maktabkhooneh.org/videos/hq3142423977644294.mp4?expire=1606606314&token=922a9ba58861f255c7a21ecd58c6111c&md5=kiqbpYhh8lXHoh7NWMYRHA==&name=DS_1_23.mp4\n",
      "https://video-resolver.maktabkhooneh.org/videos/hq059511568994300545.mp4?expire=1606606974&token=3bb2e4ca1ef52bd55e65dedce0db522c&md5=O7Lkyh71K9VeZd7c4NtSLA==&name=DS_1_24.mp4\n",
      "https://video-resolver.maktabkhooneh.org/videos/hq5008644062577899.mp4?expire=1606606435&token=f21b46913058ff3909b393afd631493e&md5=8htGkTBY_zkJs5Ov1jFJPg==&name=DS_1_25.mp4\n",
      "https://video-resolver.maktabkhooneh.org/videos/hq5066282634768599.mp4?expire=1606607378&token=d42ed618d5eba7b4965f07dd9227f8f6&md5=1C7WGNXrp7SWXwfdkif49g==&name=DS_1_26.mp4\n"
     ]
    }
   ],
   "source": [
    "list_of=driver.find_elements_by_xpath(\"/html/body/div[1]/div[4]/div/div/div[3]/div[2]/div/div[4]/a\")\n",
    "links = [elem.get_attribute('href') for elem in list_of]\n",
    "missing=[]\n",
    "# list_of_lessons=wait.until(EC.presence_of_element_located((By.XPATH,\"/html/body/div[1]/div[4]/div/div/div[3]/div[2]/div/div[4]/a\")))\n",
    "for link in links:\n",
    "    try:\n",
    "        driver.get(link)\n",
    "        atag=wait.until(EC.element_to_be_clickable((By.XPATH,\"/html/body/div/div[4]/div/div/div[3]/div[1]/div/a\")))\n",
    "        \n",
    "        print(atag.get_attribute('href'))\n",
    "    finally:\n",
    "        missing.append(link)\n",
    "        pass"
   ]
  },
  {
   "cell_type": "code",
   "execution_count": null,
   "metadata": {},
   "outputs": [],
   "source": []
  }
 ]
}